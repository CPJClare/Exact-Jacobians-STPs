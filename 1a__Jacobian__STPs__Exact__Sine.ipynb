{
  "nbformat": 4,
  "nbformat_minor": 0,
  "metadata": {
    "colab": {
      "name": "1__Jacobian__STPs__Exact__Sine.ipynb",
      "provenance": [],
      "collapsed_sections": []
    },
    "kernelspec": {
      "name": "python3",
      "display_name": "Python 3"
    }
  },
  "cells": [
    {
      "cell_type": "code",
      "metadata": {
        "colab": {
          "base_uri": "https://localhost:8080/"
        },
        "id": "xfcpTlj44HRE",
        "outputId": "210a7b14-ba40-4b51-c3d6-66cfb3aa2722"
      },
      "source": [
        "!pip install pyGPGO"
      ],
      "execution_count": 1,
      "outputs": [
        {
          "output_type": "stream",
          "text": [
            "Requirement already satisfied: pyGPGO in /usr/local/lib/python3.6/dist-packages (0.4.0.dev1)\n",
            "Requirement already satisfied: scikit-learn in /usr/local/lib/python3.6/dist-packages (from pyGPGO) (0.22.2.post1)\n",
            "Requirement already satisfied: numpy in /usr/local/lib/python3.6/dist-packages (from pyGPGO) (1.19.5)\n",
            "Requirement already satisfied: theano in /usr/local/lib/python3.6/dist-packages (from pyGPGO) (1.0.5)\n",
            "Requirement already satisfied: joblib in /usr/local/lib/python3.6/dist-packages (from pyGPGO) (1.0.0)\n",
            "Requirement already satisfied: scipy in /usr/local/lib/python3.6/dist-packages (from pyGPGO) (1.4.1)\n",
            "Requirement already satisfied: pyMC3 in /usr/local/lib/python3.6/dist-packages (from pyGPGO) (3.7)\n",
            "Requirement already satisfied: six>=1.9.0 in /usr/local/lib/python3.6/dist-packages (from theano->pyGPGO) (1.15.0)\n",
            "Requirement already satisfied: h5py>=2.7.0 in /usr/local/lib/python3.6/dist-packages (from pyMC3->pyGPGO) (2.10.0)\n",
            "Requirement already satisfied: pandas>=0.18.0 in /usr/local/lib/python3.6/dist-packages (from pyMC3->pyGPGO) (1.1.5)\n",
            "Requirement already satisfied: tqdm>=4.8.4 in /usr/local/lib/python3.6/dist-packages (from pyMC3->pyGPGO) (4.41.1)\n",
            "Requirement already satisfied: patsy>=0.4.0 in /usr/local/lib/python3.6/dist-packages (from pyMC3->pyGPGO) (0.5.1)\n",
            "Requirement already satisfied: pytz>=2017.2 in /usr/local/lib/python3.6/dist-packages (from pandas>=0.18.0->pyMC3->pyGPGO) (2018.9)\n",
            "Requirement already satisfied: python-dateutil>=2.7.3 in /usr/local/lib/python3.6/dist-packages (from pandas>=0.18.0->pyMC3->pyGPGO) (2.8.1)\n"
          ],
          "name": "stdout"
        }
      ]
    },
    {
      "cell_type": "code",
      "metadata": {
        "id": "o9WwUpis3kHm"
      },
      "source": [
        "### Import modules:\r\n",
        "\r\n",
        "import numpy as np\r\n",
        "import scipy as sp\r\n",
        "import pandas as pd\r\n",
        "import matplotlib.pyplot as plt\r\n",
        "import warnings\r\n",
        "\r\n",
        "from pyGPGO.logger import EventLogger\r\n",
        "from pyGPGO.GPGO import GPGO\r\n",
        "from pyGPGO.surrogates.GaussianProcess import GaussianProcess\r\n",
        "from pyGPGO.surrogates.tStudentProcess import tStudentProcess\r\n",
        "from pyGPGO.acquisition import Acquisition\r\n",
        "from pyGPGO.covfunc import squaredExponential\r\n",
        "\r\n",
        "from collections import OrderedDict\r\n",
        "from joblib import Parallel, delayed\r\n",
        "from numpy.linalg import slogdet, inv, cholesky, solve\r\n",
        "from scipy.optimize import minimize\r\n",
        "from scipy.spatial.distance import cdist\r\n",
        "from scipy.special import gamma\r\n",
        "from scipy.stats import norm, t\r\n",
        "from matplotlib.pyplot import rc\r\n",
        "from mpl_toolkits.axes_grid1.inset_locator import inset_axes, mark_inset\r\n",
        "\r\n",
        "warnings.filterwarnings(\"ignore\", category=RuntimeWarning)"
      ],
      "execution_count": 2,
      "outputs": []
    },
    {
      "cell_type": "code",
      "metadata": {
        "id": "Xb3X60NsRoa0"
      },
      "source": [
        "n_start_AcqFunc = 250 #multi-start iterations to avoid local optima in AcqFunc optimization"
      ],
      "execution_count": 3,
      "outputs": []
    },
    {
      "cell_type": "code",
      "metadata": {
        "id": "ZP3aj88vQppJ"
      },
      "source": [
        "### Data inputs:\r\n",
        "set_seed = 888 #initialise pseudo-random number generator, same start-point each time.\r\n",
        "\r\n",
        "### Acquisition / Utility function - MLE/Type II:\r\n",
        "d_util = 'dEI_GP'\r\n",
        "d_util_new = 'dEI_STP'\r\n",
        "\r\n",
        "n_test = n_start_AcqFunc\r\n",
        "opt=False"
      ],
      "execution_count": 4,
      "outputs": []
    },
    {
      "cell_type": "code",
      "metadata": {
        "id": "Kw4wzT3I4vlE"
      },
      "source": [
        "### Objective Function - Sin(x) 1-D:\r\n",
        "\r\n",
        "eps = 1e-8\r\n",
        "\r\n",
        "def f_sine(x1_training):\r\n",
        "    return operator * np.sin(x1_training)\r\n",
        "        \r\n",
        "def f_sine_eps(x1_training):\r\n",
        "    return operator * np.sin(x1_training + eps)\r\n",
        "\r\n",
        "# Constraints:\r\n",
        "lb = 0\r\n",
        "ub = 2 * np.pi\r\n",
        "    \r\n",
        "# Input array dimension(s):\r\n",
        "dim = 1\r\n",
        "\r\n",
        "# 1-D inputs' parameter bounds:\r\n",
        "param = {'x1_training': ('cont', [lb, ub])}\r\n",
        "    \r\n",
        "# True y bounds:\r\n",
        "y_lb = 1 # targets global maximum \r\n",
        "operator = 1 # targets global maximum \r\n",
        "y_global_orig = y_lb * operator # targets global maximum\r\n",
        "    \r\n",
        "# Test data:\r\n",
        "x1_test = np.linspace(lb, ub, n_test)"
      ],
      "execution_count": 5,
      "outputs": []
    },
    {
      "cell_type": "code",
      "metadata": {
        "id": "6gkK0WAn4zE0"
      },
      "source": [
        "### Derivatives - Squared-exponential covariance function:\r\n",
        "\r\n",
        "def l2norm_(X, Xstar):\r\n",
        "    \r\n",
        "    return cdist(X, Xstar)\r\n",
        "\r\n",
        "def kronDelta(X, Xstar):\r\n",
        "\r\n",
        "    return cdist(X, Xstar) < np.finfo(np.float32).eps\r\n",
        "\r\n",
        "class squaredExponentialDeriv(squaredExponential):\r\n",
        "    l = 1\r\n",
        "    sigmaf = 1e-4\r\n",
        "    sigman = 1e-6\r\n",
        "\r\n",
        "    def K(self, X, Xstar):\r\n",
        "        \r\n",
        "        r = (l2norm_(X, Xstar)/self.l)\r\n",
        "        K = self.sigmaf * np.exp(-1/2*r **2) + self.sigman * kronDelta(X, Xstar)\r\n",
        "        return K\r\n",
        "    \r\n",
        "    def dK(self, X, Xstar):\r\n",
        "        \r\n",
        "        r = (l2norm_(X, Xstar)/self.l)\r\n",
        "        dK = self.sigmaf/self.l**2 * np.exp(-1/2 * r **2) * l2norm_(X, Xstar)\r\n",
        "        return dK\r\n",
        "    \r\n",
        "    def d2K(self, X, Xstar):\r\n",
        "        \r\n",
        "        r = (l2norm_(X, Xstar)/self.l)\r\n",
        "        d2K = self.sigmaf/self.l**2 * np.exp(-1/2 * r **2) * (r **2 - 1)\r\n",
        "        return d2K\r\n",
        "    \r\n",
        "cov_func_gp = squaredExponentialDeriv()\r\n",
        "cov_func_stp = squaredExponentialDeriv()"
      ],
      "execution_count": 6,
      "outputs": []
    },
    {
      "cell_type": "code",
      "metadata": {
        "id": "aVkI7OoO5K7U"
      },
      "source": [
        "### Cumulative Regret Calculator:\r\n",
        "\r\n",
        "def min_max_array(x):\r\n",
        "    new_list = []\r\n",
        "    for i, num in enumerate(x):\r\n",
        "            new_list.append(np.min(x[0:i+1]))\r\n",
        "    return new_list"
      ],
      "execution_count": 7,
      "outputs": []
    },
    {
      "cell_type": "code",
      "metadata": {
        "id": "4-O_7SOE5M2U"
      },
      "source": [
        "class Acquisition_new(Acquisition):    \r\n",
        "    def __init__(self, mode, eps=1e-08, **params):\r\n",
        "        \r\n",
        "        self.params = params\r\n",
        "        self.eps = eps\r\n",
        "\r\n",
        "        mode_dict = {\r\n",
        "            'dEI_GP': self.dEI_GP,\r\n",
        "            'dEI_STP': self.dEI_STP\r\n",
        "        }\r\n",
        "\r\n",
        "        self.f = mode_dict[mode]\r\n",
        "    \r\n",
        "    def dEI_GP(self, tau, mean, std, ds, dm, dvdv, d2v, d2m):\r\n",
        "        z = -1 * (tau - mean - self.eps) / (std + self.eps)\r\n",
        "        \r\n",
        "        dsdx = ds / 2 * (std + self.eps)\r\n",
        "        d2sdx = -dsdx**2 / ((std + self.eps)) - dvdv / (std + self.eps) - d2v / (std + self.eps)\r\n",
        "        dmdx = (dm - z * dsdx) / (std + self.eps)\r\n",
        "        d2mdx = (d2m - (z * d2sdx + 2 * dmdx * dsdx)) / (std + self.eps)\r\n",
        "        \r\n",
        "        f = (std + self.eps) * (z * norm.cdf(z) + norm.pdf(z)[0])\r\n",
        "        df = (f / (std + self.eps) * dsdx + (std + self.eps) * norm.cdf(z) * dmdx)\r\n",
        "        d2f = (f / (std + self.eps) * d2sdx + dsdx * dmdx * norm.cdf(z) \\\r\n",
        "            + d2mdx * (std + self.eps) * norm.cdf(z) + dsdx * norm.cdf(z) * dmdx \\\r\n",
        "            + norm.pdf(z)[0] * (std + self.eps) * dmdx)\r\n",
        "            \r\n",
        "        return f, df, d2f\r\n",
        "\r\n",
        "    def dEI_STP(self, tau, mean, std, ds, dm, dvdv, d2v, d2m, nu=3.0):\r\n",
        "    \r\n",
        "        gamma = -1 * (tau - mean - self.eps) / (std + self.eps)\r\n",
        "        dsdx = ds / (std + self.eps)\r\n",
        "        dmdx = (dm - gamma * dsdx) / (std + self.eps)\r\n",
        "        f = (std + self.eps) * (gamma * t.cdf(gamma, df=nu) + (nu + gamma ** 2)/(nu - 1) * t.pdf(gamma, df=nu))\r\n",
        "        df = (gamma * t.cdf(gamma, df=nu) + (nu + gamma ** 2)/(nu - 1) * t.pdf(gamma,df=nu)[0]) * dsdx \\\r\n",
        "             + (std + self.eps) * (t.cdf(gamma,df=nu) * dmdx + gamma * t.pdf(gamma, df=nu) * \\\r\n",
        "             (1 - (nu + gamma ** 2)/(nu - 1) + 2/(nu - 1) * dmdx))\r\n",
        "        return f, df\r\n",
        "    \r\n",
        "    def _eval(self, tau, mean, std):\r\n",
        "    \r\n",
        "        return self.f(tau, mean, std, **self.params)\r\n",
        "    \r\n",
        "    def d_eval(self, tau, mean, std, ds, dm, dvdv, d2v, d2m):\r\n",
        "    \r\n",
        "        return self.f(tau, mean, std, ds, dm, dvdv, d2v, d2m, **self.params)\r\n",
        "\r\n",
        "    def d_eval_stp(self, tau, mean, std, ds, dm, dvdv, d2v, d2m, nu=3.0):\r\n",
        "    \r\n",
        "        return self.f(tau, mean, std, ds, dm, dvdv, d2v, d2m, nu=3.0, **self.params)"
      ],
      "execution_count": 8,
      "outputs": []
    },
    {
      "cell_type": "code",
      "metadata": {
        "id": "IwQq5d2E5QGU"
      },
      "source": [
        "### Surrogate derivatives: \r\n",
        "\r\n",
        "from scipy.linalg import cholesky, solve\r\n",
        "\r\n",
        "class dGaussianProcess(GaussianProcess):\r\n",
        "    l = 1\r\n",
        "    sigmaf = 1e-4\r\n",
        "    sigman = 1e-6\r\n",
        "\r\n",
        "    def AcqGrad(self, Xstar, return_std=False):\r\n",
        "        r_X = l2norm_(self.X, self.X)/self.l\r\n",
        "        K = self.sigmaf * np.exp(-1/2*r_X **2) + self.sigman * kronDelta(self.X, self.X)\r\n",
        "        L = cholesky(K).T\r\n",
        "        alpha = solve(L.T, solve(L, self.y))\r\n",
        "        Xstar = np.atleast_2d(Xstar)\r\n",
        "        Kstar = squaredExponentialDeriv.K(self, self.X, Xstar).T\r\n",
        "        dKstar = squaredExponentialDeriv.dK(self, self.X, Xstar).T\r\n",
        "        d2Kstar = squaredExponentialDeriv.d2K(self, self.X, Xstar).T\r\n",
        "        v = solve(self.L, Kstar.T)\r\n",
        "        dv = solve(self.L, dKstar.T)\r\n",
        "        d2v = solve(self.L, d2Kstar.T)\r\n",
        "        \r\n",
        "        ds = -2 * np.dot(dv.T, v)\r\n",
        "        dvdv = np.dot(dv.T, dv)\r\n",
        "        d2s = -2 * (dvdv + d2v)\r\n",
        "        \r\n",
        "        dm = np.dot(dKstar, alpha)\r\n",
        "        d2m = np.dot(d2Kstar, alpha)\r\n",
        "        return ds, dm, dvdv, d2v, d2m\r\n",
        "\r\n",
        "class dtStudentProcess(tStudentProcess):\r\n",
        "    l = 1\r\n",
        "    sigmaf = 1e-4\r\n",
        "    sigman = 1e-6\r\n",
        "    \r\n",
        "    def AcqGrad(self, Xstar, return_std=False):\r\n",
        "        r_X = l2norm_(self.X, self.X)/self.l\r\n",
        "        K = self.sigmaf * np.exp(-1/2*r_X **2) + self.sigman * kronDelta(self.X, self.X)\r\n",
        "        L = cholesky(self.K11).T\r\n",
        "        alpha = solve(L.T, solve(L, self.y))\r\n",
        "        Xstar = np.atleast_2d(Xstar)\r\n",
        "        Kstar = squaredExponentialDeriv.K(self, self.X, Xstar).T\r\n",
        "        dKstar = squaredExponentialDeriv.dK(self, self.X, Xstar).T\r\n",
        "        d2Kstar = squaredExponentialDeriv.d2K(self, self.X, Xstar).T\r\n",
        "        v = solve(L, Kstar.T)\r\n",
        "        dv = solve(L, dKstar.T)\r\n",
        "        d2v = solve(L, d2Kstar.T)\r\n",
        "        \r\n",
        "        ds = -2 * np.dot(dv.T, v)\r\n",
        "        dvdv = np.dot(dv.T, dv)\r\n",
        "        d2s = -2 * (dvdv + d2v)\r\n",
        "        \r\n",
        "        dm = np.dot(dKstar, alpha)\r\n",
        "        d2m = np.dot(d2Kstar, alpha)\r\n",
        "        return ds, dm, dvdv, d2v, d2m"
      ],
      "execution_count": 9,
      "outputs": []
    },
    {
      "cell_type": "code",
      "metadata": {
        "id": "5oW9vYUdCqkS"
      },
      "source": [
        "class dGPGO(GPGO):  \r\n",
        "    n_start = n_start_AcqFunc\r\n",
        "    eps = 1e-08\r\n",
        "        \r\n",
        "    def func(self, xnew):\r\n",
        "        new_mean, new_var = self.GP.predict(xnew, return_std=True)\r\n",
        "        new_std = np.sqrt(new_var + 1e-6)\r\n",
        "        ds, dm, dvdv, d2v, d2m = self.GP.AcqGrad(xnew, return_std=True)\r\n",
        "        f  = np.empty((self.n_start,))\r\n",
        "        df = np.empty((self.n_start,))\r\n",
        "        f  = -self.A.d_eval(self.tau, new_mean, new_std, ds=ds, dm=dm, dvdv=dvdv, d2v=d2v, d2m=d2m)[0]\r\n",
        "        df = -self.A.d_eval(self.tau, new_mean, new_std, ds=ds, dm=dm, dvdv=dvdv, d2v=d2v, d2m=d2m)[1]\r\n",
        "        df_array = np.full((len(xnew),),df)\r\n",
        "        return f, df_array\r\n",
        "        \r\n",
        "    def d_optimizeAcq(self, method='L-BFGS-B', n_start=n_start):\r\n",
        "        start_points_dict = [self._sampleParam() for i in range(n_start)]\r\n",
        "        start_points_arr = np.array([list(s.values())\r\n",
        "                                     for s in start_points_dict])\r\n",
        "        x_best = np.empty((n_start, len(self.parameter_key)))\r\n",
        "        f_best = np.empty((n_start,))\r\n",
        "        opt = Parallel(n_jobs=self.n_jobs)(delayed(minimize)(self.func,\r\n",
        "                                                                 x0=start_point,\r\n",
        "                                                                 method=method,\r\n",
        "                                                                 jac = True,\r\n",
        "                                                                 bounds=self.parameter_range) for start_point in\r\n",
        "                                               start_points_arr)\r\n",
        "        x_best = np.array([res.x for res in opt])\r\n",
        "        f_best = np.array([np.atleast_1d(res.fun)[0] for res in opt])\r\n",
        "\r\n",
        "        self.x_best = x_best\r\n",
        "        self.f_best = f_best\r\n",
        "        self.best = x_best[np.argmin(f_best)]\r\n",
        "    \r\n",
        "    def run(self, max_iter=10, init_evals=3, resume=False):\r\n",
        "        \r\n",
        "        if not resume:\r\n",
        "            self.init_evals = init_evals\r\n",
        "            self._firstRun(self.init_evals)\r\n",
        "            self.logger._printInit(self)\r\n",
        "        for iteration in range(max_iter):\r\n",
        "            self.d_optimizeAcq()\r\n",
        "            self.updateGP()\r\n",
        "            self.logger._printCurrent(self)"
      ],
      "execution_count": 10,
      "outputs": []
    },
    {
      "cell_type": "code",
      "metadata": {
        "id": "Dvkd4QQ1uwcv"
      },
      "source": [
        "## dGPGO_stp - BayesOpt derivatives' class: Student's-t\r\n",
        "\r\n",
        "class dGPGO_stp(GPGO):  \r\n",
        "    n_start = 100\r\n",
        "        \r\n",
        "    def func_stp(self, xnew):\r\n",
        "        new_mean, new_var = self.GP.predict(xnew, return_std=True)\r\n",
        "        new_std = np.sqrt(new_var + 1e-6)\r\n",
        "        ds, dm, dvdv, d2v, d2m = self.GP.AcqGrad(xnew, return_std=True)\r\n",
        "        f  = np.empty((self.n_start,))\r\n",
        "        df = np.empty((self.n_start,))\r\n",
        "        f  = -self.A.d_eval_stp(self.tau, new_mean, new_std, ds=ds, dm=dm, dvdv=dvdv, d2v=d2v, d2m=d2m, nu=df)[0]\r\n",
        "        df = -self.A.d_eval_stp(self.tau, new_mean, new_std, ds=ds, dm=dm, dvdv=dvdv, d2v=d2v, d2m=d2m, nu=df)[1]\r\n",
        "        df_array = np.full((len(xnew),),df)\r\n",
        "        return f, df_array\r\n",
        "        \r\n",
        "    def d_optimizeAcq_stp(self, method='L-BFGS-B', n_start=n_start):\r\n",
        "        start_points_dict = [self._sampleParam() for i in range(n_start)]\r\n",
        "        start_points_arr = np.array([list(s.values())\r\n",
        "                                     for s in start_points_dict])\r\n",
        "        x_best = np.empty((n_start, len(self.parameter_key)))\r\n",
        "        f_best = np.empty((n_start,))\r\n",
        "        opt = Parallel(n_jobs=self.n_jobs)(delayed(minimize)(self.func_stp,\r\n",
        "                                                                 x0=start_point,\r\n",
        "                                                                 method=method,\r\n",
        "                                                                 jac = True,\r\n",
        "                                                                 bounds=self.parameter_range) for start_point in\r\n",
        "                                               start_points_arr)\r\n",
        "        x_best = np.array([res.x for res in opt])\r\n",
        "        f_best = np.array([np.atleast_1d(res.fun)[0] for res in opt])\r\n",
        "\r\n",
        "        self.x_best = x_best\r\n",
        "        self.f_best = f_best\r\n",
        "        self.best = x_best[np.argmin(f_best)]\r\n",
        "    \r\n",
        "    def run(self, max_iter=10, init_evals=3, resume=False):\r\n",
        "        \r\n",
        "        if not resume:\r\n",
        "            self.init_evals = init_evals\r\n",
        "            self._firstRun(self.init_evals)\r\n",
        "            self.logger._printInit(self)\r\n",
        "        for iteration in range(max_iter):\r\n",
        "            self.d_optimizeAcq_stp()\r\n",
        "            self.updateGP()\r\n",
        "            self.logger._printCurrent(self)"
      ],
      "execution_count": 11,
      "outputs": []
    },
    {
      "cell_type": "code",
      "metadata": {
        "id": "BZt_3hbr5Stc"
      },
      "source": [
        "### d2GPGO - BayesOpt class: Exact Hessian\r\n",
        "\r\n",
        "class d2GPGO(GPGO):  \r\n",
        "    n_start = n_start_AcqFunc\r\n",
        "    p = np.full((n_start,1),1) + 1\r\n",
        "    eps = 1e-08\r\n",
        "    \r\n",
        "    def func(self, xnew):\r\n",
        "        new_mean, new_var = self.GP.predict(xnew, return_std=True)\r\n",
        "        new_std = np.sqrt(new_var + 1e-6)\r\n",
        "        ds, dm, dvdv, d2v, d2m = self.GP.AcqGrad(xnew, return_std=True)\r\n",
        "        f  = np.empty((self.n_start,))\r\n",
        "        df = np.empty((self.n_start,))\r\n",
        "        f  = -self.A.d_eval(self.tau, new_mean, new_std, ds=ds, dm=dm, dvdv=dvdv, d2v=d2v, d2m=d2m)[0]\r\n",
        "        df = -self.A.d_eval(self.tau, new_mean, new_std, ds=ds, dm=dm, dvdv=dvdv, d2v=d2v, d2m=d2m)[1]\r\n",
        "        df_array = np.full((len(xnew),),df)\r\n",
        "        return f, df_array\r\n",
        "    \r\n",
        "    def hessp_nonzero(self, xnew, p):\r\n",
        "        new_mean, new_var = self.GP.predict(xnew, return_std=True)\r\n",
        "        new_std = np.sqrt(new_var + 1e-6)\r\n",
        "        ds, dm, dvdv, d2v, d2m = self.GP.AcqGrad(xnew, return_std=True)\r\n",
        "        df2 = np.empty((self.n_start,))\r\n",
        "        df2 = -self.A.d_eval(self.tau, new_mean, new_std, ds=ds, dm=dm, dvdv=dvdv, d2v=d2v, d2m=d2m)[2]\r\n",
        "        H2 = np.empty((self.n_start,))\r\n",
        "        df2 = np.asarray(df2)\r\n",
        "        p = np.asarray(p)\r\n",
        "        H2 = np.multiply(df2,p)\r\n",
        "        return H2\r\n",
        "\r\n",
        "    def dEI_GP(self, tau, mean, std, ds, dm, dvdv, d2v, d2m):\r\n",
        "        z = -1 * (tau - mean - self.eps) / (std + self.eps)\r\n",
        "        \r\n",
        "        dsdx = ds / 2 * (std + self.eps)\r\n",
        "        d2sdx = -dsdx**2 / ((std + self.eps)) - dvdv / (std + self.eps) - d2v / (std + self.eps)\r\n",
        "        dmdx = (dm - z * dsdx) / (std + self.eps)\r\n",
        "        d2mdx = (d2m - (z * d2sdx + 2 * dmdx * dsdx)) / (std + self.eps)\r\n",
        "        \r\n",
        "        d2f = (z * norm.cdf(z) + norm.pdf(z)[0]) * d2sdx + dsdx * dmdx * norm.cdf(z) \\\r\n",
        "            + d2mdx * (std + self.eps) * norm.cdf(z) + dsdx * norm.cdf(z) * dmdx \\\r\n",
        "            + norm.pdf(z)[0] * (std + self.eps) * dmdx\r\n",
        "\r\n",
        "        return d2f\r\n",
        "\r\n",
        "    def hessp_nonzero1(self, xnew, p, *args):\r\n",
        "      new_mean, new_var = self.GP.predict(xnew, return_std=True)\r\n",
        "      new_std = np.sqrt(new_var + 1e-6)\r\n",
        "      ds, dm, dvdv, d2v, d2m = self.GP.AcqGrad(xnew, return_std=True)\r\n",
        "      df2 = np.empty((self.n_start,))\r\n",
        "      df2 = -self.dEI_GP(self.tau, new_mean, new_std, ds=ds, dm=dm, dvdv=dvdv, d2v=d2v, d2m=d2m)[0] * p\r\n",
        "      return df2\r\n",
        "\r\n",
        "    def d_optimizeAcq(self, method='Newton-CG', n_start=n_start):\r\n",
        "        start_points_dict = [self._sampleParam() for i in range(n_start)]\r\n",
        "        start_points_arr = np.array([list(s.values())\r\n",
        "                                     for s in start_points_dict])\r\n",
        "        x_best = np.empty((n_start, len(self.parameter_key)))\r\n",
        "        f_best = np.empty((n_start,))\r\n",
        "        opt = Parallel(n_jobs=self.n_jobs)(delayed(minimize)(self.func,\r\n",
        "                                                                 x0=start_point,\r\n",
        "                                                                 method=method,\r\n",
        "                                                                 jac = True,                  \r\n",
        "                                                                 hessp = self.hessp_nonzero1,                      \r\n",
        "                                                                 bounds=self.parameter_range) for start_point in\r\n",
        "                                               start_points_arr)\r\n",
        "        \r\n",
        "        x_best = np.array([res.x for res in opt])\r\n",
        "        f_best = np.array([np.atleast_1d(res.fun)[0] for res in opt])\r\n",
        "\r\n",
        "        self.x_best = x_best\r\n",
        "        self.f_best = f_best\r\n",
        "        self.best = x_best[np.argmin(f_best)]\r\n",
        "\r\n",
        "    def run(self, max_iter=10, init_evals=3, resume=False):    \r\n",
        "        if not resume:\r\n",
        "            self.init_evals = init_evals\r\n",
        "            self._firstRun(self.init_evals)\r\n",
        "            self.logger._printInit(self)\r\n",
        "        for iteration in range(max_iter):\r\n",
        "            self.d_optimizeAcq()\r\n",
        "            self.updateGP()\r\n",
        "            self.logger._printCurrent(self)"
      ],
      "execution_count": 12,
      "outputs": []
    },
    {
      "cell_type": "code",
      "metadata": {
        "id": "DOWaxueg4DK8"
      },
      "source": [
        "n_init = 2  # Number of iterations used to initialise Bayesian optimisation; minimum 2\r\n",
        "iters = 2"
      ],
      "execution_count": 13,
      "outputs": []
    },
    {
      "cell_type": "code",
      "metadata": {
        "colab": {
          "base_uri": "https://localhost:8080/"
        },
        "id": "NWI0uaDzhPKT",
        "outputId": "d9aa6f7e-e70d-49e2-b1ba-6950f1673381"
      },
      "source": [
        "np.random.seed(set_seed)\r\n",
        "\r\n",
        "gp_iters = dGaussianProcess(cov_func_gp, optimize=opt)\r\n",
        "gpgo_iters = dGPGO(gp_iters, Acquisition_new(d_util), f_sine, param)\r\n",
        "gpgo_iters.run(init_evals=n_init, max_iter=iters)\r\n",
        "\r\n",
        "x_test = np.linspace(lb, ub, n_test).reshape((n_test, 1))\r\n",
        "a_iters = np.array(-gpgo_iters.f_best.flatten())\r\n",
        "max(a_iters), gpgo_iters.best[0]"
      ],
      "execution_count": 14,
      "outputs": [
        {
          "output_type": "stream",
          "text": [
            "Evaluation \t Proposed point \t  Current eval. \t Best eval.\n",
            "init   \t [5.40077857]. \t  -0.7722701001578773 \t 0.8593619530727911\n",
            "init   \t [1.03402064]. \t  0.8593619530727911 \t 0.8593619530727911\n",
            "1      \t [0.06067612]. \t  0.06063889401347421 \t 0.8593619530727911\n",
            "2      \t [1.92662017]. \t  \u001b[92m0.9373598108361146\u001b[0m \t 0.9373598108361146\n"
          ],
          "name": "stdout"
        },
        {
          "output_type": "execute_result",
          "data": {
            "text/plain": [
              "(0.22319756235962154, 1.9266201695880354)"
            ]
          },
          "metadata": {
            "tags": []
          },
          "execution_count": 14
        }
      ]
    },
    {
      "cell_type": "code",
      "metadata": {
        "colab": {
          "base_uri": "https://localhost:8080/"
        },
        "id": "GewNWXj6hO79",
        "outputId": "e2f4b068-423d-49ff-cb7e-31a8310f80ef"
      },
      "source": [
        "np.random.seed(set_seed)\r\n",
        "\r\n",
        "stp_iters = dtStudentProcess(cov_func_stp, optimize=opt)\r\n",
        "stpgo_iters = dGPGO_stp(stp_iters, Acquisition_new(d_util_new), f_sine, param)\r\n",
        "stpgo_iters.run(init_evals=n_init, max_iter=iters)\r\n",
        "\r\n",
        "x_test = np.linspace(lb, ub, n_test).reshape((n_test, 1))\r\n",
        "a_stp_iters = np.array(-stpgo_iters.f_best.flatten())\r\n",
        "max(a_stp_iters), stpgo_iters.best[0]"
      ],
      "execution_count": 15,
      "outputs": [
        {
          "output_type": "stream",
          "text": [
            "Evaluation \t Proposed point \t  Current eval. \t Best eval.\n",
            "init   \t [5.40077857]. \t  -0.7722701001578773 \t 0.8593619530727911\n",
            "init   \t [1.03402064]. \t  0.8593619530727911 \t 0.8593619530727911\n",
            "1      \t [2.16553413]. \t  0.8282954331083198 \t 0.8593619530727911\n",
            "2      \t [0.19620746]. \t  0.19495096493145758 \t 0.8593619530727911\n"
          ],
          "name": "stdout"
        },
        {
          "output_type": "execute_result",
          "data": {
            "text/plain": [
              "(0.1483291975815658, 0.19620745560536307)"
            ]
          },
          "metadata": {
            "tags": []
          },
          "execution_count": 15
        }
      ]
    },
    {
      "cell_type": "code",
      "metadata": {
        "colab": {
          "base_uri": "https://localhost:8080/"
        },
        "id": "1SubBoYjVz8Z",
        "outputId": "9a251816-6471-4b2e-9ad1-237410fb6436"
      },
      "source": [
        "np.random.seed(set_seed)\r\n",
        "\r\n",
        "gp_iters1 = dGaussianProcess(cov_func_gp, optimize=opt)\r\n",
        "gpgo_iters1 = dGPGO(gp_iters1, Acquisition_new(d_util), f_sine, param)\r\n",
        "gpgo_iters1.run(init_evals=n_init, max_iter=iters+1)\r\n",
        "\r\n",
        "x_test = np.linspace(lb, ub, n_test).reshape((n_test, 1))\r\n",
        "a_iters1 = np.array(-gpgo_iters1.f_best.flatten())\r\n",
        "max(a_iters1), gpgo_iters1.best[0]"
      ],
      "execution_count": 16,
      "outputs": [
        {
          "output_type": "stream",
          "text": [
            "Evaluation \t Proposed point \t  Current eval. \t Best eval.\n",
            "init   \t [5.40077857]. \t  -0.7722701001578773 \t 0.8593619530727911\n",
            "init   \t [1.03402064]. \t  0.8593619530727911 \t 0.8593619530727911\n",
            "1      \t [0.06067612]. \t  0.06063889401347421 \t 0.8593619530727911\n",
            "2      \t [1.92662017]. \t  \u001b[92m0.9373598108361146\u001b[0m \t 0.9373598108361146\n",
            "3      \t [1.53628526]. \t  \u001b[92m0.9994045523613151\u001b[0m \t 0.9994045523613151\n"
          ],
          "name": "stdout"
        },
        {
          "output_type": "execute_result",
          "data": {
            "text/plain": [
              "(0.09347177015346617, 1.5362852636107074)"
            ]
          },
          "metadata": {
            "tags": []
          },
          "execution_count": 16
        }
      ]
    },
    {
      "cell_type": "code",
      "metadata": {
        "colab": {
          "base_uri": "https://localhost:8080/"
        },
        "id": "DDrhAOgvWBGP",
        "outputId": "beb0c925-1264-43b7-a2fa-98dd3f7c39a7"
      },
      "source": [
        "np.random.seed(set_seed)\r\n",
        "\r\n",
        "stp_iters1 = dtStudentProcess(cov_func_stp, optimize=opt)\r\n",
        "stpgo_iters1 = dGPGO_stp(stp_iters1, Acquisition_new(d_util_new), f_sine, param)\r\n",
        "stpgo_iters1.run(init_evals=n_init, max_iter=iters+1)\r\n",
        "\r\n",
        "x_test = np.linspace(lb, ub, n_test).reshape((n_test, 1))\r\n",
        "a_stp_iters1 = np.array(-stpgo_iters1.f_best.flatten())\r\n",
        "max(a_stp_iters1), stpgo_iters1.best[0]"
      ],
      "execution_count": 17,
      "outputs": [
        {
          "output_type": "stream",
          "text": [
            "Evaluation \t Proposed point \t  Current eval. \t Best eval.\n",
            "init   \t [5.40077857]. \t  -0.7722701001578773 \t 0.8593619530727911\n",
            "init   \t [1.03402064]. \t  0.8593619530727911 \t 0.8593619530727911\n",
            "1      \t [2.16553413]. \t  0.8282954331083198 \t 0.8593619530727911\n",
            "2      \t [0.19620746]. \t  0.19495096493145758 \t 0.8593619530727911\n",
            "3      \t [1.57199032]. \t  \u001b[92m0.999999287185369\u001b[0m \t 0.999999287185369\n"
          ],
          "name": "stdout"
        },
        {
          "output_type": "execute_result",
          "data": {
            "text/plain": [
              "(0.17213745495074048, 1.571990324044192)"
            ]
          },
          "metadata": {
            "tags": []
          },
          "execution_count": 17
        }
      ]
    },
    {
      "cell_type": "code",
      "metadata": {
        "colab": {
          "base_uri": "https://localhost:8080/",
          "height": 387
        },
        "id": "TJwkXzN9AexL",
        "outputId": "56a1a472-5fba-44ac-ec21-a2f4c920a96c"
      },
      "source": [
        "def plot_dGPGO(gpgo, param, new):\r\n",
        "    fig, ax = plt.subplots(figsize=[7,5])\r\n",
        "    x_test = np.linspace(lb, ub, n_test).reshape((n_test, 1))\r\n",
        "    a = np.array([-stpgo_iters.func_stp(np.atleast_1d(x))[0] for x in x_test]).flatten()\r\n",
        "    plt.plot(x_test, a, color='r', label='STP EI$(\\mathbf{x})$: L-BFGS-B')\r\n",
        "    plt.ylim(0, 0.2)\r\n",
        "    plt.xlim(0, 2 * np.pi)\r\n",
        "    plt.axvline(stpgo_iters1.best[0], color='b', label='STP EI: next $\\mathbf{x}$')\r\n",
        "    plt.axvline(gpgo_iters1.best[0], color='g', label='GP EI: next $\\mathbf{x}$')\r\n",
        "    plt.legend(loc=1)\r\n",
        "    plt.xlabel(\"$\\mathbf{x}$\")\r\n",
        "    plt.ylabel(\"STP EI$(\\mathbf{x})$\")\r\n",
        "    title = 'STP EI'\r\n",
        "    plt.suptitle(title, weight = 'bold')\r\n",
        "\r\n",
        "    axins = inset_axes(ax, 2, 2, loc=7, bbox_to_anchor=(0.9, 0.45),bbox_transform=ax.figure.transFigure) # no zoom\r\n",
        "    axins.plot(x_test[0:], a[0:], color='r', label='STP EI$(\\mathbf{x})$: excl. Hessian')\r\n",
        "    axins.set_ylim(0.165, 0.175)\r\n",
        "    axins.set_xlim(1.45, 1.65) # Limit the region for zoom\r\n",
        "    plt.xlabel(\"$\\mathbf{x}$\")\r\n",
        "    plt.ylabel(\"STP EI$(\\mathbf{x})$\")\r\n",
        "    axins.set_autoscaley_on(True)\r\n",
        "    plt.axvline(stpgo_iters1.best[0], color='b', label='STP EI$(\\mathbf{x})$: next $\\mathbf{x}$')\r\n",
        "    plt.axvline(gpgo_iters1.best[0], color='g', label='GP EI$(\\mathbf{x})$: next $\\mathbf{x}$')\r\n",
        "    mark_inset(ax, axins, loc1=3, loc2=4, fc=\"none\", ec=\"0.9\")\r\n",
        "    plt.draw()\r\n",
        "    plt.show()\r\n",
        "    return max(a), min(a)\r\n",
        "\r\n",
        "plot_dGPGO(stpgo_iters1, param, new=True)"
      ],
      "execution_count": 18,
      "outputs": [
        {
          "output_type": "display_data",
          "data": {
            "image/png": "[encoded data removed]",
            "text/plain": [
              "<Figure size 504x360 with 2 Axes>"
            ]
          },
          "metadata": {
            "tags": [],
            "needs_background": "light"
          }
        },
        {
          "output_type": "execute_result",
          "data": {
            "text/plain": [
              "(0.17210253873806625, 7.781604716135246e-10)"
            ]
          },
          "metadata": {
            "tags": []
          },
          "execution_count": 18
        }
      ]
    },
    {
      "cell_type": "code",
      "metadata": {
        "colab": {
          "base_uri": "https://localhost:8080/",
          "height": 455
        },
        "id": "MkvwnInvScLw",
        "outputId": "2ec8dba1-a98a-4c29-ac9e-a880afa3c06f"
      },
      "source": [
        "def plot_jacobian(gpgo_iters, param, new):\r\n",
        "    plt.figure(figsize=[7,5])\r\n",
        "    x_test = np.linspace(lb, ub, n_test).reshape((n_test, 1))\r\n",
        "    jac_gp = np.array([-gpgo_iters.func(np.atleast_1d(x))[1] for x in x_test]).flatten()\r\n",
        "    jac_stp = np.array([-stpgo_iters.func_stp(np.atleast_1d(x))[1] for x in x_test]).flatten()\r\n",
        "    #plt.plot(x_test, jac_gp, color='r', label='GP dEI$(\\mathbf{x})$: exact GP EI Jacobian')\r\n",
        "    plt.plot(x_test, jac_stp, color='b', label='STP dEI$(\\mathbf{x})$: exact STP EI Jacobian')\r\n",
        "    plt.ylim(-0.05, 0.25)\r\n",
        "    plt.xlim(0, 2 * np.pi)\r\n",
        "    plt.legend(loc=0)\r\n",
        "    plt.xlabel(\"$\\mathbf{x}$\")\r\n",
        "    plt.ylabel(\"STP dEI$(\\mathbf{x})$\")\r\n",
        "    title = 'STP EI$(\\mathbf{x})$'\r\n",
        "    plt.suptitle(title, weight = 'bold')    \r\n",
        "    plt.show()\r\n",
        "    return len(jac_gp), min(jac_gp), max(jac_gp), min(jac_stp), max(jac_stp)\r\n",
        "  \r\n",
        "plot_jacobian(gpgo_iters, param, new=True)"
      ],
      "execution_count": 19,
      "outputs": [
        {
          "output_type": "display_data",
          "data": {
            "image/png": "[encoded data removed]",
            "text/plain": [
              "<Figure size 504x360 with 1 Axes>"
            ]
          },
          "metadata": {
            "tags": [],
            "needs_background": "light"
          }
        },
        {
          "output_type": "execute_result",
          "data": {
            "text/plain": [
              "(250,\n",
              " -0.027551630375569538,\n",
              " 0.2906130016304606,\n",
              " -0.030796668132125966,\n",
              " 0.2095004481145762)"
            ]
          },
          "metadata": {
            "tags": []
          },
          "execution_count": 19
        }
      ]
    },
    {
      "cell_type": "code",
      "metadata": {
        "colab": {
          "base_uri": "https://localhost:8080/",
          "height": 350
        },
        "id": "DJDCKmCU61fn",
        "outputId": "a27be141-d0f7-4cf6-f525-a9dabc81c07b"
      },
      "source": [
        "def plot_sine(gpgo, param, new=True):\r\n",
        "    x_test = np.linspace(lb, ub, n_test).reshape((n_test, 1))\r\n",
        "    y_hat, y_var = gpgo.GP.predict(x_test, return_std=True)\r\n",
        "    std = np.sqrt(y_var)\r\n",
        "    l, u = y_hat - 3.182 * std, y_hat + 3.182 * std # t-score (nu = 3), 95% confidence (two-tail)\r\n",
        "    colours = ['Post', 'Random']\r\n",
        "    if new:\r\n",
        "        plt.figure(figsize=[7,5])\r\n",
        "        plt.scatter(gpgo.GP.X, gpgo.GP.y, marker ='D', color = 'Red', label='Post-initialization ($\\mathbf{x}$, $y$)')\r\n",
        "        plt.scatter(gpgo.X, gpgo.y, marker ='D', color = 'Green', label='Random-initialization ($\\mathbf{x}$, $y$)')\r\n",
        "        plt.ylim(-2.25,2)\r\n",
        "        plt.xlim(0,2 * np.pi)\r\n",
        "        plt.plot(x_test.flatten(), y_hat, color = 'Yellow', label='$\\hat{\\mu}_{STP}(\\mathbf{x})$')\r\n",
        "        plt.plot(x_test.flatten(), np.sin(x_test.flatten()), color = 'Orange', label='True function: y = sin($\\mathbf{x}$)')\r\n",
        "        plt.fill_between(x_test.flatten(), l, u, alpha=0.2, label='95% C.I. for $\\mu_{STP}(\\mathbf{x})$')\r\n",
        "        title = 'Sine'\r\n",
        "        plt.title(title, weight = 'bold')\r\n",
        "        plt.xlabel(\"$\\mathbf{x}$\")\r\n",
        "        plt.ylabel(\"sin($\\mathbf{x}$)\")\r\n",
        "        plt.legend(loc=3)\r\n",
        "        plt.show()\r\n",
        "\r\n",
        "plot_sine(stpgo_iters1, param, new=True)"
      ],
      "execution_count": 20,
      "outputs": [
        {
          "output_type": "display_data",
          "data": {
            "image/png": "[encoded data removed]",
            "text/plain": [
              "<Figure size 504x360 with 1 Axes>"
            ]
          },
          "metadata": {
            "tags": [],
            "needs_background": "light"
          }
        }
      ]
    },
    {
      "cell_type": "code",
      "metadata": {
        "id": "DE7aPWK5fk-V"
      },
      "source": [
        "y_global_opt = 1"
      ],
      "execution_count": 21,
      "outputs": []
    },
    {
      "cell_type": "code",
      "metadata": {
        "colab": {
          "base_uri": "https://localhost:8080/"
        },
        "id": "kmu3t4arjB52",
        "outputId": "848c88b7-3f60-4d9a-d8f3-ffa766af6877"
      },
      "source": [
        "gpgo_iters1.tau, stpgo_iters1.tau"
      ],
      "execution_count": 22,
      "outputs": [
        {
          "output_type": "execute_result",
          "data": {
            "text/plain": [
              "(0.9994045523613151, 0.999999287185369)"
            ]
          },
          "metadata": {
            "tags": []
          },
          "execution_count": 22
        }
      ]
    },
    {
      "cell_type": "code",
      "metadata": {
        "colab": {
          "base_uri": "https://localhost:8080/"
        },
        "id": "p6wT36cSjcVe",
        "outputId": "863ac961-4b11-4c7e-d085-0731d51ab0fb"
      },
      "source": [
        "gpgo_iters1_regret = y_global_opt - gpgo_iters1.tau\r\n",
        "stpgo_iters1_regret = y_global_opt - stpgo_iters1.tau\r\n",
        "\r\n",
        "gpgo_iters1_regret, stpgo_iters1_regret, "
      ],
      "execution_count": 23,
      "outputs": [
        {
          "output_type": "execute_result",
          "data": {
            "text/plain": [
              "(0.0005954476386849095, 7.128146309876016e-07)"
            ]
          },
          "metadata": {
            "tags": []
          },
          "execution_count": 23
        }
      ]
    },
    {
      "cell_type": "code",
      "metadata": {
        "id": "pC5kEFEqYxpD"
      },
      "source": [
        ""
      ],
      "execution_count": 23,
      "outputs": []
    }
  ]
}